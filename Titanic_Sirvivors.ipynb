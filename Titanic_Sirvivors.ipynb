{
  "nbformat": 4,
  "nbformat_minor": 0,
  "metadata": {
    "colab": {
      "name": "Titanic_Sirvivors.ipynb",
      "provenance": [],
      "collapsed_sections": []
    },
    "kernelspec": {
      "name": "python3",
      "display_name": "Python 3"
    },
    "language_info": {
      "name": "python"
    }
  },
  "cells": [
    {
      "cell_type": "code",
      "metadata": {
        "colab": {
          "base_uri": "https://localhost:8080/"
        },
        "id": "E2ue7R5-R6Eo",
        "outputId": "7f97cb7e-e3f1-41c9-f11f-f4cafc71d82e"
      },
      "source": [
        "import pandas as pd\n",
        "import numpy as np\n",
        "\n",
        "df = pd.DataFrame(pd.read_csv('/content/train.csv'))\n",
        "df.head()\n",
        "df.shape\n",
        "df.isnull().sum()\n",
        "x = df.isnull().sum()\n",
        "drop_col = x[x>(35/100 * df.shape[0])]\n",
        "drop_col\n",
        "drop_col.index\n",
        "df.drop(drop_col.index, axis=1, inplace=True)\n",
        "df.isnull().sum()\n",
        "df.fillna(df.mean(), inplace = True)\n",
        "df.isnull().sum()\n",
        "df['Embarked'].describe()\n",
        "df['Embarked'].fillna('S',inplace=True)\n",
        "df.isnull().sum()\n",
        "df.corr()\n",
        "df['FamilySize'] = df['SibSp']+df['Parch']\n",
        "df.drop(['SibSp', 'Parch'], axis=1, inplace=True)\n",
        "df.corr()\n",
        "df['Alone'] = [0 if df['FamilySize'][i]>0 else 1 for i in df.index]\n",
        "df.head()\n",
        "df.groupby(['Alone'])['Survived'].mean()\n",
        "df[['Alone', 'Fare']].corr()\n",
        "df['Sex'] = [0 if df['Sex'][i]=='male' else 1 for i in df.index]\n",
        "df.groupby(['Sex'])['Survived'].mean()\n",
        "df.groupby(['Embarked'])['Survived'].mean()\n"
      ],
      "execution_count": 3,
      "outputs": [
        {
          "output_type": "execute_result",
          "data": {
            "text/plain": [
              "Embarked\n",
              "C    0.553571\n",
              "Q    0.389610\n",
              "S    0.339009\n",
              "Name: Survived, dtype: float64"
            ]
          },
          "metadata": {
            "tags": []
          },
          "execution_count": 3
        }
      ]
    }
  ]
}